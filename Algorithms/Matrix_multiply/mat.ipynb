{
 "cells": [
  {
   "cell_type": "code",
   "execution_count": 1,
   "metadata": {},
   "outputs": [],
   "source": [
    "## 1. Native multiply -> O(N^3)\n",
    "\n",
    "## let assume A is (n * m) and B is (m * k)\n",
    "def matmul(A, B):\n",
    "    n = len(A)\n",
    "    m = len(A[0])\n",
    "    k = len(B[0])\n",
    "\n",
    "    C = [[sum(A[i][l]*B[l][j] for l in range(m)) for j in range(k)] for i in range(n)]\n",
    "    return C"
   ]
  },
  {
   "cell_type": "code",
   "execution_count": 2,
   "metadata": {},
   "outputs": [
    {
     "data": {
      "text/plain": [
       "[[38, 44, 50, 56], [83, 98, 113, 128], [128, 152, 176, 200]]"
      ]
     },
     "execution_count": 2,
     "metadata": {},
     "output_type": "execute_result"
    }
   ],
   "source": [
    "A = [[1,2,3],\n",
    "     [4,5,6],\n",
    "     [7,8,9]]\n",
    "\n",
    "B = [[1,2,3,4],\n",
    "     [5,6,7,8],\n",
    "     [9,10,11,12]]\n",
    "\n",
    "matmul(A,B)"
   ]
  },
  {
   "cell_type": "code",
   "execution_count": 3,
   "metadata": {},
   "outputs": [],
   "source": [
    "def mat_plus(A,B):\n",
    "    n = len(A)\n",
    "    m = len(A[0])\n",
    "    C = [[A[i][j]+B[i][j] for j in range(m)] for i in range(n)]\n",
    "    return C\n",
    "\n",
    "def mat_minus(A,B):\n",
    "    n = len(A)\n",
    "    m = len(A[0])\n",
    "    C = [[A[i][j]-B[i][j] for j in range(m)] for i in range(n)]\n",
    "    return C"
   ]
  },
  {
   "cell_type": "code",
   "execution_count": 4,
   "metadata": {},
   "outputs": [
    {
     "data": {
      "text/plain": [
       "[[2, 4, 6], [8, 10, 12], [14, 16, 18]]"
      ]
     },
     "execution_count": 4,
     "metadata": {},
     "output_type": "execute_result"
    }
   ],
   "source": [
    "mat_plus(A,A)"
   ]
  },
  {
   "cell_type": "code",
   "execution_count": 56,
   "metadata": {},
   "outputs": [],
   "source": [
    "def mat_divide(X):\n",
    "    n = len(X)\n",
    "    m = len(X[0])\n",
    "    A = [[X[i][j] for j in range(0,int(m/2))] for i in range(0,int(n/2))]\n",
    "    B = [[X[i][j] for j in range(int(m/2),m)] for i in range(0,int(n/2))]\n",
    "    C = [[X[i][j] for j in range(0,int(m/2))] for i in range(int(n/2),n)]\n",
    "    D = [[X[i][j] for j in range(int(m/2),m)] for i in range(int(n/2),n)]\n",
    "    return A,B,C,D\n",
    "\n",
    "def mat_concat(A,B,C,D):\n",
    "    n1,n2,m1,m2 = len(A), len(C), len(A[0]), len(B[0])\n",
    "    # print(n1,n2,m1,m2)\n",
    "    X = [[0 for j in range(0,m1+m2)] for i in range(0,n1+n2)]\n",
    "    for i in range(0,n1):\n",
    "        for j in range(0,m1):\n",
    "            X[i][j]= A[i][j]\n",
    "    for i in range(0,n1):\n",
    "        for j in range(0,m2):\n",
    "            X[i][m1+j]= B[i][j]\n",
    "    for i in range(0,n2):\n",
    "        for j in range(0,m1):\n",
    "            X[n1+i][j]= C[i][j]\n",
    "    for i in range(0,n2):\n",
    "        for j in range(0,m2):\n",
    "            X[n1+i][m1+j]= D[i][j]\n",
    "    return X"
   ]
  },
  {
   "cell_type": "code",
   "execution_count": 54,
   "metadata": {},
   "outputs": [
    {
     "data": {
      "text/plain": [
       "([[1]], [[2, 3]], [[4], [7]], [[5, 6], [8, 9]])"
      ]
     },
     "execution_count": 54,
     "metadata": {},
     "output_type": "execute_result"
    }
   ],
   "source": [
    "mat_divide(A)"
   ]
  },
  {
   "cell_type": "code",
   "execution_count": 55,
   "metadata": {},
   "outputs": [
    {
     "name": "stdout",
     "output_type": "stream",
     "text": [
      "1 2 1 2\n"
     ]
    },
    {
     "data": {
      "text/plain": [
       "[[1, 2, 3], [4, 5, 6], [7, 8, 9]]"
      ]
     },
     "execution_count": 55,
     "metadata": {},
     "output_type": "execute_result"
    }
   ],
   "source": [
    "mat_concat(*mat_divide(A))"
   ]
  },
  {
   "cell_type": "code",
   "execution_count": 12,
   "metadata": {},
   "outputs": [],
   "source": [
    "def floor_2ns(c):\n",
    "    res = 1\n",
    "    while res < c:\n",
    "        res *= 2\n",
    "    return res"
   ]
  },
  {
   "cell_type": "code",
   "execution_count": 7,
   "metadata": {},
   "outputs": [],
   "source": [
    "def zero_padding(A,nn):\n",
    "    n, m = len(A), len(A[0])\n",
    "    X = [[0 for j in range(0,nn)] for i in range(0,nn)]\n",
    "    for i in range(n):\n",
    "        for j in range(m):\n",
    "            X[i][j] = A[i][j]\n",
    "    return X"
   ]
  },
  {
   "cell_type": "code",
   "execution_count": 13,
   "metadata": {},
   "outputs": [
    {
     "data": {
      "text/plain": [
       "2"
      ]
     },
     "execution_count": 13,
     "metadata": {},
     "output_type": "execute_result"
    }
   ],
   "source": [
    "floor_2ns(2)"
   ]
  },
  {
   "cell_type": "code",
   "execution_count": 57,
   "metadata": {},
   "outputs": [],
   "source": [
    "def fast_matmul(X,Y):\n",
    "    n, m, k = len(X),len(X[0]),len(Y[0])\n",
    "    if(n == 1):\n",
    "        return [[X[0][0]*Y[0][0]]]\n",
    "    nn = floor_2ns(max(n,m,k))\n",
    "    X = zero_padding(X,nn)\n",
    "    Y = zero_padding(Y,nn)\n",
    "    A,B,C,D = mat_divide(X)\n",
    "    print(A,B,C,D)\n",
    "    E,F,G,H = mat_divide(Y)\n",
    "    print(E,F,G,H)\n",
    "    P1 = fast_matmul(A,mat_minus(F,H))\n",
    "    P2 = fast_matmul(mat_plus(A,B),H)\n",
    "    P3 = fast_matmul(mat_plus(C,D),E)\n",
    "    P4 = fast_matmul(D,mat_minus(G,E))\n",
    "    P5 = fast_matmul(mat_plus(A,D),mat_plus(E,H))\n",
    "    P6 = fast_matmul(mat_minus(B,D),mat_plus(G,H))\n",
    "    P7 = fast_matmul(mat_minus(A,C),mat_plus(E,F))\n",
    "    AA = mat_plus(mat_plus(P5,P4),mat_minus(P6,P2))\n",
    "    BB = mat_plus(P1,P2)\n",
    "    CC = mat_plus(P3,P4)\n",
    "    DD = mat_minus(mat_plus(P1,P5),mat_plus(P3,P7))\n",
    "    XY = mat_concat(P1,P2,P3,P4)\n",
    "    return [[XY[i][j] for j in range(k)] for i in range(n)]"
   ]
  },
  {
   "cell_type": "code",
   "execution_count": 58,
   "metadata": {},
   "outputs": [
    {
     "name": "stdout",
     "output_type": "stream",
     "text": [
      "[[1, 2], [4, 5]] [[3, 0], [6, 0]] [[7, 8], [0, 0]] [[9, 0], [0, 0]]\n",
      "[[1, 2], [5, 6]] [[3, 4], [7, 8]] [[9, 10], [0, 0]] [[11, 12], [0, 0]]\n",
      "[[1]] [[2]] [[4]] [[5]]\n",
      "[[-8]] [[-8]] [[7]] [[8]]\n",
      "[[4]] [[2]] [[10]] [[5]]\n",
      "[[11]] [[12]] [[0]] [[0]]\n",
      "[[16]] [[8]] [[0]] [[0]]\n",
      "[[1]] [[2]] [[5]] [[6]]\n",
      "[[9]] [[0]] [[0]] [[0]]\n",
      "[[8]] [[8]] [[-5]] [[-6]]\n",
      "[[10]] [[2]] [[4]] [[5]]\n",
      "[[12]] [[14]] [[5]] [[6]]\n",
      "[[-6]] [[0]] [[6]] [[0]]\n",
      "[[20]] [[22]] [[0]] [[0]]\n",
      "[[-6]] [[-6]] [[4]] [[5]]\n",
      "[[4]] [[6]] [[12]] [[14]]\n"
     ]
    },
    {
     "data": {
      "text/plain": [
       "[[-16, 24, 48, 0], [-72, 75, 165, -55], [-64, 144, 126, -54]]"
      ]
     },
     "execution_count": 58,
     "metadata": {},
     "output_type": "execute_result"
    }
   ],
   "source": [
    "fast_matmul(A,B)"
   ]
  },
  {
   "cell_type": "code",
   "execution_count": null,
   "metadata": {},
   "outputs": [],
   "source": []
  },
  {
   "cell_type": "code",
   "execution_count": 62,
   "metadata": {},
   "outputs": [
    {
     "name": "stdout",
     "output_type": "stream",
     "text": [
      "[[1]] [[2]] [[3]] [[4]]\n",
      "[[1]] [[0]] [[0]] [[0]]\n"
     ]
    },
    {
     "data": {
      "text/plain": [
       "[[0, 0], [7, -4]]"
      ]
     },
     "execution_count": 62,
     "metadata": {},
     "output_type": "execute_result"
    }
   ],
   "source": [
    "fast_matmul([[1,2],[3,4]],[[1,0],[0,0]])"
   ]
  },
  {
   "cell_type": "code",
   "execution_count": 64,
   "metadata": {},
   "outputs": [
    {
     "name": "stdout",
     "output_type": "stream",
     "text": [
      "ss\n",
      "ss\n",
      "ss\n",
      "ss\n",
      "ss\n",
      "ss\n",
      "ss\n",
      "ss\n",
      "ss\n",
      "ss\n",
      "ss\n",
      "ss\n",
      "ss\n",
      "ss\n",
      "ss\n"
     ]
    }
   ],
   "source": [
    "def f(n):\n",
    "    if n > 1:\n",
    "        print(\"ss\")\n",
    "        f(n/2)\n",
    "        f(n/2)\n",
    "\n",
    "f(16)"
   ]
  },
  {
   "cell_type": "code",
   "execution_count": null,
   "metadata": {},
   "outputs": [],
   "source": []
  }
 ],
 "metadata": {
  "kernelspec": {
   "display_name": "Lab0",
   "language": "python",
   "name": "python3"
  },
  "language_info": {
   "codemirror_mode": {
    "name": "ipython",
    "version": 3
   },
   "file_extension": ".py",
   "mimetype": "text/x-python",
   "name": "python",
   "nbconvert_exporter": "python",
   "pygments_lexer": "ipython3",
   "version": "3.9.5"
  },
  "orig_nbformat": 4,
  "vscode": {
   "interpreter": {
    "hash": "2eea83f07c8f2bf6868d3fbd957748796de2271a7959769494b2005bca716540"
   }
  }
 },
 "nbformat": 4,
 "nbformat_minor": 2
}
